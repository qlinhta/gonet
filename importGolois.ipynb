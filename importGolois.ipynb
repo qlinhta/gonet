{
 "cells": [
  {
   "cell_type": "code",
   "execution_count": 1,
   "metadata": {
    "colab": {
     "base_uri": "https://localhost:8080/"
    },
    "id": "ks7AjhAto2dV",
    "outputId": "47b5f9cf-784e-468e-d7fc-aea2d1c7742e",
    "ExecuteTime": {
     "end_time": "2023-11-11T13:36:53.005339960Z",
     "start_time": "2023-11-11T13:36:46.556988577Z"
    }
   },
   "outputs": [
    {
     "name": "stdout",
     "output_type": "stream",
     "text": [
      "--2023-11-11 14:36:46--  https://www.lamsade.dauphine.fr/~cazenave/project2022.zip\r\n",
      "Resolving www.lamsade.dauphine.fr (www.lamsade.dauphine.fr)... 193.48.71.250\r\n",
      "Connecting to www.lamsade.dauphine.fr (www.lamsade.dauphine.fr)|193.48.71.250|:443... connected.\r\n",
      "HTTP request sent, awaiting response... 200 OK\r\n",
      "Length: 138884468 (132M) [application/zip]\r\n",
      "Saving to: ‘project2022.zip’\r\n",
      "\r\n",
      "project2022.zip      32%[=====>              ]  42.45M  9.05MB/s    eta 13s    ^C\r\n",
      "Archive:  project2022.zip\r\n",
      "  End-of-central-directory signature not found.  Either this file is not\r\n",
      "  a zipfile, or it constitutes one disk of a multi-part archive.  In the\r\n",
      "  latter case the central directory and zipfile comment will be found on\r\n",
      "  the last disk(s) of this archive.\r\n",
      "unzip:  cannot find zipfile directory in one of project2022.zip or\r\n",
      "        project2022.zip.zip, and cannot find project2022.zip.ZIP, period.\r\n"
     ]
    }
   ],
   "source": [
    "!wget https://www.lamsade.dauphine.fr/~cazenave/project2022.zip\n",
    "!unzip project2022.zip"
   ]
  },
  {
   "cell_type": "code",
   "execution_count": null,
   "metadata": {
    "colab": {
     "base_uri": "https://localhost:8080/"
    },
    "id": "SNxDy5hTfHs_",
    "outputId": "9a7e3322-45ee-4f72-8c97-d1fbe339780d"
   },
   "outputs": [],
   "source": [
    "!python golois.py"
   ]
  },
  {
   "cell_type": "code",
   "execution_count": null,
   "outputs": [],
   "source": [],
   "metadata": {
    "collapsed": false
   }
  }
 ],
 "metadata": {
  "accelerator": "GPU",
  "colab": {
   "collapsed_sections": [],
   "name": "importGolois.ipynb",
   "provenance": []
  },
  "kernelspec": {
   "display_name": "Python 3 (ipykernel)",
   "language": "python",
   "name": "python3"
  },
  "language_info": {
   "codemirror_mode": {
    "name": "ipython",
    "version": 3
   },
   "file_extension": ".py",
   "mimetype": "text/x-python",
   "name": "python",
   "nbconvert_exporter": "python",
   "pygments_lexer": "ipython3",
   "version": "3.10.6"
  }
 },
 "nbformat": 4,
 "nbformat_minor": 1
}
